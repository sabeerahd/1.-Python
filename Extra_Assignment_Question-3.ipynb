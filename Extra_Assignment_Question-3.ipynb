{
 "cells": [
  {
   "cell_type": "code",
   "execution_count": null,
   "id": "61937688",
   "metadata": {},
   "outputs": [],
   "source": [
    "i=int (input(\"Value : \"))\n",
    "if i==10:\n",
    "    print(\"correct\")\n",
    "    "
   ]
  },
  {
   "cell_type": "code",
   "execution_count": 7,
   "id": "8218d627",
   "metadata": {},
   "outputs": [
    {
     "name": "stdout",
     "output_type": "stream",
     "text": [
      "Enter the password : HOPE@123\n",
      "Your password is Correct\n"
     ]
    }
   ],
   "source": [
    "pass1 = ('HOPE@123')\n",
    "pass2 = (input(\"Enter the password : \"))\n",
    "if (pass1==pass2):\n",
    "    print(\"Your password is Correct\")\n",
    "else:\n",
    "    print(\"not Correct\")"
   ]
  },
  {
   "cell_type": "code",
   "execution_count": 12,
   "id": "d9c449d1",
   "metadata": {},
   "outputs": [
    {
     "name": "stdout",
     "output_type": "stream",
     "text": [
      " age : 20\n",
      "Adult\n"
     ]
    }
   ],
   "source": [
    "Age = int(input(\" age : \"))\n",
    "if (Age<20):\n",
    "    print(\"Children\")\n",
    "elif (Age<40):\n",
    "    print(\"Adult\")\n",
    "elif (Age<60):\n",
    "    print(\"Citizen\")\n",
    "else:\n",
    "    print(\"Senior Citizen\")\n",
    "    \n",
    "    "
   ]
  },
  {
   "cell_type": "code",
   "execution_count": 17,
   "id": "16687d0d",
   "metadata": {},
   "outputs": [
    {
     "name": "stdout",
     "output_type": "stream",
     "text": [
      "Enter your number : 1\n",
      " No is positive\n"
     ]
    }
   ],
   "source": [
    "number = int(input(\"Enter your number : \"))\n",
    "if (number < 0):\n",
    "    print(\"No is negative\")\n",
    "else:\n",
    "    print(\" No is positive\")\n",
    "    "
   ]
  },
  {
   "cell_type": "code",
   "execution_count": 20,
   "id": "3081c3a2",
   "metadata": {},
   "outputs": [
    {
     "name": "stdout",
     "output_type": "stream",
     "text": [
      "Enter a number to check by : 22\n",
      " No is NOT divided by 5\n"
     ]
    }
   ],
   "source": [
    "num1 = int (input(\"Enter a number to check by : \"))\n",
    "if ((num1%5) ==0):\n",
    "    print(\"No is divided by 5\")\n",
    "else:\n",
    "    print(\" No is NOT divided by 5\")"
   ]
  },
  {
   "cell_type": "code",
   "execution_count": null,
   "id": "cd8a432d",
   "metadata": {},
   "outputs": [],
   "source": []
  }
 ],
 "metadata": {
  "kernelspec": {
   "display_name": "Python 3 (ipykernel)",
   "language": "python",
   "name": "python3"
  },
  "language_info": {
   "codemirror_mode": {
    "name": "ipython",
    "version": 3
   },
   "file_extension": ".py",
   "mimetype": "text/x-python",
   "name": "python",
   "nbconvert_exporter": "python",
   "pygments_lexer": "ipython3",
   "version": "3.11.5"
  }
 },
 "nbformat": 4,
 "nbformat_minor": 5
}
