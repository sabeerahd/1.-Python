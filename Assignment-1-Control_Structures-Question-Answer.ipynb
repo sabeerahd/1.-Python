{
 "cells": [
  {
   "cell_type": "code",
   "execution_count": 1,
   "id": "8b6808cc",
   "metadata": {},
   "outputs": [
    {
     "name": "stdout",
     "output_type": "stream",
     "text": [
      "Welcome to Assignment-1\n"
     ]
    }
   ],
   "source": [
    "print(\"Welcome to Assignment-1\")"
   ]
  },
  {
   "cell_type": "code",
   "execution_count": 7,
   "id": "b9bd382b",
   "metadata": {},
   "outputs": [
    {
     "name": "stdout",
     "output_type": "stream",
     "text": [
      "num1 = 10\n",
      "num2 = 30\n",
      "Add = 40\n"
     ]
    }
   ],
   "source": [
    "num1=int (input(\"num1 = \"))\n",
    "num2=int (input(\"num2 = \"))\n",
    "Add=(num1+num2)\n",
    "print((\"Add =\"), Add)"
   ]
  },
  {
   "cell_type": "code",
   "execution_count": 15,
   "id": "a4b6b89d",
   "metadata": {},
   "outputs": [
    {
     "name": "stdout",
     "output_type": "stream",
     "text": [
      "Enter the BMI Index : 34\n",
      "Very Overweight\n"
     ]
    }
   ],
   "source": [
    "BMI =float (input(\"Enter the BMI Index : \"))\n",
    "\n",
    "if(BMI<18.5):\n",
    "    print(\"underweight\")\n",
    "elif(BMI<24.9):\n",
    "    print(\"normalweight\")\n",
    "elif(BMI<29.9):\n",
    "    print(\"Overweight\")\n",
    "else:\n",
    "    print(\"Very Overweight\")\n",
    "    \n",
    "    "
   ]
  },
  {
   "cell_type": "code",
   "execution_count": null,
   "id": "0ee9b15a",
   "metadata": {},
   "outputs": [],
   "source": []
  },
  {
   "cell_type": "code",
   "execution_count": null,
   "id": "9f2b93e8",
   "metadata": {},
   "outputs": [],
   "source": []
  }
 ],
 "metadata": {
  "kernelspec": {
   "display_name": "Python 3 (ipykernel)",
   "language": "python",
   "name": "python3"
  },
  "language_info": {
   "codemirror_mode": {
    "name": "ipython",
    "version": 3
   },
   "file_extension": ".py",
   "mimetype": "text/x-python",
   "name": "python",
   "nbconvert_exporter": "python",
   "pygments_lexer": "ipython3",
   "version": "3.11.5"
  }
 },
 "nbformat": 4,
 "nbformat_minor": 5
}
