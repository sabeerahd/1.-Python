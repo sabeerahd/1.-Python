{
 "cells": [
  {
   "cell_type": "code",
   "execution_count": 13,
   "id": "71153e07",
   "metadata": {},
   "outputs": [
    {
     "name": "stdout",
     "output_type": "stream",
     "text": [
      "HOPE AI\n"
     ]
    }
   ],
   "source": [
    "print(\"HOPE AI\")"
   ]
  },
  {
   "cell_type": "code",
   "execution_count": 12,
   "id": "64b0f6a5",
   "metadata": {},
   "outputs": [
    {
     "name": "stdout",
     "output_type": "stream",
     "text": [
      "Enter your institute name? : HOPE AI\n"
     ]
    }
   ],
   "source": [
    "Name =(input(\"Enter your institute name? : \"))"
   ]
  },
  {
   "cell_type": "code",
   "execution_count": 1,
   "id": "10925df5",
   "metadata": {},
   "outputs": [
    {
     "name": "stdout",
     "output_type": "stream",
     "text": [
      "Enter your name : Raj\n",
      "Enter your age : 15\n",
      "Enter your school name : Guru School\n",
      "Enter your degree : B.E CSE\n"
     ]
    }
   ],
   "source": [
    "name =(input(\"Enter your name : \"))\n",
    "age =(input(\"Enter your age : \"))\n",
    "schoolname =(input(\"Enter your school name : \"))\n",
    "degree =(input(\"Enter your degree : \"))\n"
   ]
  },
  {
   "cell_type": "code",
   "execution_count": 4,
   "id": "9c4dcc75",
   "metadata": {},
   "outputs": [
    {
     "name": "stdout",
     "output_type": "stream",
     "text": [
      "a = 43\n",
      "b = 34\n",
      "add =  77\n"
     ]
    }
   ],
   "source": [
    "A =int (input(\"a = \"))\n",
    "B =int (input (\"b = \"))\n",
    "Add=(A+B)\n",
    "print((\"add = \"), Add)"
   ]
  },
  {
   "cell_type": "code",
   "execution_count": 6,
   "id": "6141a9e0",
   "metadata": {},
   "outputs": [
    {
     "name": "stdout",
     "output_type": "stream",
     "text": [
      "a = 43\n",
      "b = 34\n",
      "Sub =  9\n"
     ]
    }
   ],
   "source": [
    "A =int(input(\"a = \"))\n",
    "B =int(input(\"b = \"))\n",
    "Sub =(A-B)\n",
    "print((\"Sub = \"), Sub)\n",
    "\n",
    "\n"
   ]
  },
  {
   "cell_type": "code",
   "execution_count": 7,
   "id": "c972f940",
   "metadata": {},
   "outputs": [
    {
     "name": "stdout",
     "output_type": "stream",
     "text": [
      "a = 63\n",
      "b = 97\n",
      "Mul =  6111\n"
     ]
    }
   ],
   "source": [
    "A =int(input(\"a = \"))\n",
    "B =int(input(\"b = \"))\n",
    "Mul =(A*B)\n",
    "print((\"Mul = \"), Mul)\n"
   ]
  },
  {
   "cell_type": "code",
   "execution_count": 8,
   "id": "b58d9210",
   "metadata": {},
   "outputs": [
    {
     "name": "stdout",
     "output_type": "stream",
     "text": [
      "a = 76\n",
      "b = 31\n",
      "Div =  2.4516129032258065\n"
     ]
    }
   ],
   "source": [
    "A =int(input(\"a = \"))\n",
    "B =int(input(\"b = \"))\n",
    "Div = (A/B)\n",
    "print((\"Div = \"), Div)\n"
   ]
  },
  {
   "cell_type": "code",
   "execution_count": 9,
   "id": "f0ee773b",
   "metadata": {},
   "outputs": [
    {
     "name": "stdout",
     "output_type": "stream",
     "text": [
      "a = 76\n",
      "b = 31\n",
      "Floor Div =  2\n"
     ]
    }
   ],
   "source": [
    "A =int(input(\"a = \"))\n",
    "B =int(input(\"b = \"))\n",
    "Floor_Div = (A//B)\n",
    "print((\"Floor Div = \"), Floor_Div)"
   ]
  },
  {
   "cell_type": "code",
   "execution_count": 10,
   "id": "f5d7fe08",
   "metadata": {},
   "outputs": [
    {
     "name": "stdout",
     "output_type": "stream",
     "text": [
      "a = 76\n",
      "b = 31\n",
      " Modulo =  14\n"
     ]
    }
   ],
   "source": [
    "A =int(input(\"a = \"))\n",
    "B =int(input(\"b = \"))\n",
    "modulo = (A%B)\n",
    "print((\" Modulo = \"), modulo)\n"
   ]
  },
  {
   "cell_type": "code",
   "execution_count": 11,
   "id": "572e8abe",
   "metadata": {},
   "outputs": [
    {
     "name": "stdout",
     "output_type": "stream",
     "text": [
      "a = 4\n",
      "b = 4\n",
      " Power =  256\n"
     ]
    }
   ],
   "source": [
    "A =int(input(\"a = \"))\n",
    "B =int(input(\"b = \"))\n",
    "power = (A**B)\n",
    "print((\" Power = \"), power)\n"
   ]
  },
  {
   "cell_type": "code",
   "execution_count": null,
   "id": "ea0fde26",
   "metadata": {},
   "outputs": [],
   "source": []
  }
 ],
 "metadata": {
  "kernelspec": {
   "display_name": "Python 3 (ipykernel)",
   "language": "python",
   "name": "python3"
  },
  "language_info": {
   "codemirror_mode": {
    "name": "ipython",
    "version": 3
   },
   "file_extension": ".py",
   "mimetype": "text/x-python",
   "name": "python",
   "nbconvert_exporter": "python",
   "pygments_lexer": "ipython3",
   "version": "3.11.5"
  }
 },
 "nbformat": 4,
 "nbformat_minor": 5
}
