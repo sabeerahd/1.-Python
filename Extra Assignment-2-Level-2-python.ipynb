{
 "cells": [
  {
   "cell_type": "code",
   "execution_count": 1,
   "id": "98fca1c6",
   "metadata": {},
   "outputs": [
    {
     "name": "stdout",
     "output_type": "stream",
     "text": [
      "0\n",
      "1\n",
      "2\n",
      "3\n",
      "4\n",
      "5\n",
      "6\n",
      "7\n",
      "8\n",
      "9\n",
      "10\n",
      "11\n",
      "12\n",
      "13\n",
      "14\n",
      "15\n",
      "16\n",
      "17\n",
      "18\n",
      "19\n"
     ]
    }
   ],
   "source": [
    "for num in range(0, 20):\n",
    "    print(num)\n",
    "    \n"
   ]
  },
  {
   "cell_type": "code",
   "execution_count": 2,
   "id": "f0896890",
   "metadata": {},
   "outputs": [
    {
     "name": "stdout",
     "output_type": "stream",
     "text": [
      "10 11 12 13 14 15 16 17 18 19 "
     ]
    }
   ],
   "source": [
    "for num in range(10, 20):\n",
    "    print(num, end=' ' )\n",
    "      \n",
    "\n",
    "\n",
    "    "
   ]
  },
  {
   "cell_type": "code",
   "execution_count": 3,
   "id": "78f59f38",
   "metadata": {},
   "outputs": [
    {
     "name": "stdout",
     "output_type": "stream",
     "text": [
      "Total number of List2 is :  7\n"
     ]
    }
   ],
   "source": [
    "list2 = [10,20,14,55,43,87,76]\n",
    "leng = len(list2)\n",
    "print(\"Total number of List2 is : \", leng)\n",
    "    \n",
    "    "
   ]
  },
  {
   "cell_type": "code",
   "execution_count": 4,
   "id": "1f4b52e8",
   "metadata": {},
   "outputs": [
    {
     "name": "stdout",
     "output_type": "stream",
     "text": [
      "Artificial Intelligence\n",
      "A\n",
      "r\n",
      "t\n",
      "i\n",
      "f\n",
      "i\n",
      "c\n",
      "i\n",
      "a\n",
      "l\n",
      " \n",
      "I\n",
      "n\n",
      "t\n",
      "e\n",
      "l\n",
      "l\n",
      "i\n",
      "g\n",
      "e\n",
      "n\n",
      "c\n",
      "e\n"
     ]
    }
   ],
   "source": [
    "list3 = 'Artificial Intelligence'\n",
    "print(\"Artificial Intelligence\")\n",
    "for AI in list3:\n",
    "    print(AI)  \n",
    "    \n",
    "    \n"
   ]
  },
  {
   "cell_type": "code",
   "execution_count": 5,
   "id": "1eaad314",
   "metadata": {},
   "outputs": [
    {
     "name": "stdout",
     "output_type": "stream",
     "text": [
      "-Your name - sa\n",
      "-Your age - 20\n",
      "-Your Profession - se\n"
     ]
    },
    {
     "data": {
      "text/plain": [
       "'se'"
      ]
     },
     "execution_count": 5,
     "metadata": {},
     "output_type": "execute_result"
    }
   ],
   "source": [
    "(input(\"-Your name - \"))\n",
    "int (input(\"-Your age - \"))\n",
    "(input(\"-Your Profession - \"))"
   ]
  },
  {
   "cell_type": "code",
   "execution_count": 6,
   "id": "90339431",
   "metadata": {},
   "outputs": [
    {
     "name": "stdout",
     "output_type": "stream",
     "text": [
      "(1, 'Welcome', 2, 'Hope')\n"
     ]
    }
   ],
   "source": [
    "Tuple1 =(1, 'Welcome', 2, 'Hope')\n",
    "print(Tuple1)\n",
    "\n"
   ]
  },
  {
   "cell_type": "code",
   "execution_count": 7,
   "id": "5616b76a",
   "metadata": {},
   "outputs": [
    {
     "name": "stdout",
     "output_type": "stream",
     "text": [
      "((0, 1, 2, 3), ('python', 'HOPE'))\n"
     ]
    }
   ],
   "source": [
    "Tuple2 =(0, 1, 2, 3) \n",
    "Tuple3 =('python', 'HOPE')\n",
    "Tuple4 =(Tuple2, Tuple3)\n",
    "print(Tuple4)"
   ]
  },
  {
   "cell_type": "code",
   "execution_count": 8,
   "id": "b0a3088d",
   "metadata": {},
   "outputs": [
    {
     "name": "stdout",
     "output_type": "stream",
     "text": [
      "19 :Odd number\n",
      "25 :Odd number\n",
      "1 :Odd number\n"
     ]
    }
   ],
   "source": [
    "list5=(20,10,16,19,25,1,276,188)\n",
    "for i in list5:\n",
    "    if i % 2 ==1:\n",
    "        print(i, \":Odd number\")\n",
    "    "
   ]
  },
  {
   "cell_type": "code",
   "execution_count": 9,
   "id": "a5ae9c28",
   "metadata": {},
   "outputs": [
    {
     "name": "stdout",
     "output_type": "stream",
     "text": [
      "20 :Even number\n",
      "10 :Even number\n",
      "16 :Even number\n",
      "276 :Even number\n",
      "188 :Even number\n"
     ]
    }
   ],
   "source": [
    "list5=(20,10,16,19,25,1,276,188)\n",
    "for i in list5:\n",
    "    if i % 2 ==0:\n",
    "        print(i, \":Even number\")\n",
    "    "
   ]
  },
  {
   "cell_type": "code",
   "execution_count": null,
   "id": "88cf469c",
   "metadata": {},
   "outputs": [],
   "source": []
  }
 ],
 "metadata": {
  "kernelspec": {
   "display_name": "Python 3 (ipykernel)",
   "language": "python",
   "name": "python3"
  },
  "language_info": {
   "codemirror_mode": {
    "name": "ipython",
    "version": 3
   },
   "file_extension": ".py",
   "mimetype": "text/x-python",
   "name": "python",
   "nbconvert_exporter": "python",
   "pygments_lexer": "ipython3",
   "version": "3.11.5"
  }
 },
 "nbformat": 4,
 "nbformat_minor": 5
}
